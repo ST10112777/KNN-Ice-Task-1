{
 "cells": [
  {
   "cell_type": "markdown",
   "metadata": {},
   "source": [
    "### Face Detection and Data Collection"
   ]
  },
  {
   "cell_type": "code",
   "execution_count": 3,
   "metadata": {},
   "outputs": [
    {
     "name": "stdout",
     "output_type": "stream",
     "text": [
      "Defaulting to user installation because normal site-packages is not writeable\n",
      "Requirement already satisfied: opencv-python in c:\\users\\user\\appdata\\roaming\\python\\python311\\site-packages (4.9.0.80)\n",
      "Requirement already satisfied: numpy>=1.21.2 in c:\\programdata\\anaconda3\\lib\\site-packages (from opencv-python) (1.26.4)\n"
     ]
    }
   ],
   "source": [
    "!pip install opencv-python\n"
   ]
  },
  {
   "cell_type": "code",
   "execution_count": 4,
   "metadata": {},
   "outputs": [],
   "source": [
    "import cv2\n",
    "import numpy as np\n",
    "import os"
   ]
  },
  {
   "cell_type": "code",
   "execution_count": 5,
   "metadata": {},
   "outputs": [],
   "source": [
    "# Load Haar Cascade classifier from XML file\n",
    "classifier = cv2.CascadeClassifier('haarcascade_frontalface_default.xml')"
   ]
  },
  {
   "cell_type": "markdown",
   "metadata": {},
   "source": [
    "#### Detect the face in the images:"
   ]
  },
  {
   "cell_type": "code",
   "execution_count": 6,
   "metadata": {},
   "outputs": [],
   "source": [
    "def extract_faces(image_path):\n",
    "    image = cv2.imread(image_path)\n",
    "    if image is None:\n",
    "        print(f\"Error loading image: {image_path}\")\n",
    "        return []\n",
    "    gray = cv2.cvtColor(image, cv2.COLOR_BGR2GRAY)\n",
    "    faces = classifier.detectMultiScale(gray, 1.1, 4)\n",
    "    face_data = []\n",
    "    for (x, y, w, h) in faces:\n",
    "        face = gray[y:y+h, x:x+w]\n",
    "        face = cv2.resize(face, (100, 100))  # Resize to fixed size\n",
    "        face_data.append(face.flatten())\n",
    "    return face_data"
   ]
  },
  {
   "cell_type": "code",
   "execution_count": 7,
   "metadata": {},
   "outputs": [],
   "source": [
    "def collect_face_data(directory, label):\n",
    "    X, y = [], []\n",
    "    for filename in os.listdir(directory):\n",
    "        if filename.endswith('.jpg') or filename.endswith('.png'):\n",
    "            face_features = extract_faces(os.path.join(directory, filename))\n",
    "            if face_features:\n",
    "                X.extend(face_features)\n",
    "                y.extend([label] * len(face_features))\n",
    "    return X, y\n",
    "\n",
    "# Collect face data for Nicolas Cage and others\n",
    "X_cage, y_cage = collect_face_data(r'face_dataset\\nicolas_cage\\Nicolas Cage portrait', 1)\n",
    "X_others, y_others = collect_face_data(r'face_dataset\\others\\random people portrait', 0)"
   ]
  },
  {
   "cell_type": "code",
   "execution_count": 8,
   "metadata": {},
   "outputs": [
    {
     "name": "stdout",
     "output_type": "stream",
     "text": [
      "Total samples: 276\n"
     ]
    }
   ],
   "source": [
    "# Combine the data\n",
    "X = np.array(X_cage + X_others)\n",
    "y = np.array(y_cage + y_others)\n",
    "\n",
    "print(f\"Total samples: {len(X)}\")"
   ]
  },
  {
   "cell_type": "markdown",
   "metadata": {},
   "source": [
    "#### Dataset Prep:"
   ]
  },
  {
   "cell_type": "code",
   "execution_count": 9,
   "metadata": {},
   "outputs": [],
   "source": [
    "import pandas as pd\n",
    "\n",
    "def save_to_csv(filename, X, y):\n",
    "    data = np.hstack((X, y.reshape(-1, 1)))\n",
    "    df = pd.DataFrame(data)\n",
    "    df.to_csv(filename, index=False)\n",
    "\n",
    "# Save data to CSV\n",
    "save_to_csv('face_data.csv', X, y)\n"
   ]
  },
  {
   "cell_type": "markdown",
   "metadata": {},
   "source": [
    "### Tunning KNN"
   ]
  },
  {
   "cell_type": "code",
   "execution_count": 10,
   "metadata": {},
   "outputs": [],
   "source": [
    "import pandas as pd\n",
    "from sklearn.neighbors import KNeighborsClassifier\n",
    "from sklearn.model_selection import train_test_split, GridSearchCV\n",
    "from sklearn.metrics import classification_report, accuracy_score"
   ]
  },
  {
   "cell_type": "code",
   "execution_count": 11,
   "metadata": {},
   "outputs": [],
   "source": [
    "# Load data from CSV\n",
    "data = pd.read_csv('face_data.csv').values\n",
    "X, y = data[:, :-1], data[:, -1]"
   ]
  },
  {
   "cell_type": "code",
   "execution_count": 12,
   "metadata": {},
   "outputs": [
    {
     "name": "stdout",
     "output_type": "stream",
     "text": [
      "Best split ratio: 0.2\n",
      "Best cross-validation score: 0.7272727272727273\n"
     ]
    }
   ],
   "source": [
    "# Function to evaluate different training splits\n",
    "def evaluate_split_ratios(X, y, splits, param_grid):\n",
    "    best_split = None\n",
    "    best_score = 0\n",
    "    best_model = None\n",
    "\n",
    "    for split in splits:\n",
    "        X_train, X_test, y_train, y_test = train_test_split(X, y, test_size=split, random_state=42)\n",
    "\n",
    "        knn = KNeighborsClassifier()\n",
    "        grid_search = GridSearchCV(knn, param_grid, cv=5, scoring='accuracy')\n",
    "        grid_search.fit(X_train, y_train)\n",
    "        \n",
    "        score = grid_search.best_score_\n",
    "        if score > best_score:\n",
    "            best_score = score\n",
    "            best_split = split\n",
    "            best_model = grid_search.best_estimator_\n",
    "\n",
    "    return best_split, best_score, best_model\n",
    "\n",
    "# Define the parameter grid\n",
    "param_grid = {\n",
    "    'n_neighbors': range(1, 11),\n",
    "    'weights': ['uniform', 'distance'],\n",
    "    'metric': ['euclidean', 'manhattan']\n",
    "}\n",
    "\n",
    "# Define different split ratios to evaluate\n",
    "split_ratios = [0.1, 0.2, 0.3, 0.4]\n",
    "\n",
    "# Find the best split ratio\n",
    "best_split, best_score, best_model = evaluate_split_ratios(X, y, split_ratios, param_grid)\n",
    "\n",
    "print(f\"Best split ratio: {best_split}\")\n",
    "print(f\"Best cross-validation score: {best_score}\")\n"
   ]
  },
  {
   "cell_type": "markdown",
   "metadata": {},
   "source": [
    "### Train Best KNN"
   ]
  },
  {
   "cell_type": "code",
   "execution_count": 13,
   "metadata": {},
   "outputs": [
    {
     "name": "stdout",
     "output_type": "stream",
     "text": [
      "              precision    recall  f1-score   support\n",
      "\n",
      "           0       0.64      0.72      0.68        29\n",
      "           1       0.65      0.56      0.60        27\n",
      "\n",
      "    accuracy                           0.64        56\n",
      "   macro avg       0.64      0.64      0.64        56\n",
      "weighted avg       0.64      0.64      0.64        56\n",
      "\n",
      "Accuracy: 0.6428571428571429\n"
     ]
    }
   ],
   "source": [
    "# Split the dataset using the best split ratio\n",
    "X_train, X_test, y_train, y_test = train_test_split(X, y, test_size=best_split, random_state=42)\n",
    "\n",
    "# Train the model with the best parameters\n",
    "best_model.fit(X_train, y_train)\n",
    "\n",
    "# Predict on the test set\n",
    "y_pred = best_model.predict(X_test)\n",
    "\n",
    "# Evaluate the model\n",
    "print(classification_report(y_test, y_pred))\n",
    "print(f\"Accuracy: {accuracy_score(y_test, y_pred)}\")"
   ]
  },
  {
   "cell_type": "markdown",
   "metadata": {},
   "source": [
    "## Indentifier"
   ]
  },
  {
   "cell_type": "code",
   "execution_count": 21,
   "metadata": {},
   "outputs": [],
   "source": [
    "test_image_path = 'images.jpg' "
   ]
  },
  {
   "cell_type": "code",
   "execution_count": 22,
   "metadata": {},
   "outputs": [],
   "source": [
    "def recognize_faces_in_image(image_path):\n",
    "    image = cv2.imread(image_path)\n",
    "    if image is None:\n",
    "        print(f\"Error: Unable to load image at {image_path}\")\n",
    "        return None\n",
    "\n",
    "    gray = cv2.cvtColor(image, cv2.COLOR_BGR2GRAY)\n",
    "    faces = classifier.detectMultiScale(gray, 1.5, 5)\n",
    "\n",
    "    if len(faces) == 0:\n",
    "        print(\"No faces detected in the image.\")\n",
    "        return image\n",
    "\n",
    "    X_test = []\n",
    "    # Detect faces in the image\n",
    "    for face in faces:\n",
    "        x, y, w, h = face\n",
    "        im_face = gray[y:y + h, x:x + w]\n",
    "        im_face = cv2.resize(im_face, (100, 100))\n",
    "        X_test.append(im_face.reshape(-1))\n",
    "    \n",
    "    response = best_model.predict(np.array(X_test))\n",
    "    \n",
    "    # Detect faces in the image\n",
    "    for i, face in enumerate(faces):\n",
    "        x, y, w, h = face\n",
    "        center = (x + w // 2, y + h // 2)\n",
    "        radius = w // 2\n",
    "        cv2.circle(image, center, radius, (0, 255, 0), 3)  \n",
    "    \n",
    "        text = \"You've been Caged!\" if response[i] == 1 else \"Unknown\"\n",
    "        text_color = (0, 225, 0) if response[i] == 1 else (255, 255, 255)  \n",
    "        cv2.putText(image, text, (x - 50, y - 10), cv2.FONT_HERSHEY_TRIPLEX, 1.0, text_color, 2)  \n",
    "    \n",
    "    if response[i] == 1:\n",
    "        cage_detected_text = \"(Nicolas Cage detected)\"\n",
    "        cage_detected_color = (0, 255, 0)  \n",
    "        cv2.putText(image, cage_detected_text, (x - 50, y + h + 30), cv2.FONT_HERSHEY_COMPLEX_SMALL, 1.0, cage_detected_color, 2) \n",
    "        \n",
    "    return image\n"
   ]
  },
  {
   "cell_type": "code",
   "execution_count": 23,
   "metadata": {},
   "outputs": [
    {
     "ename": "KeyboardInterrupt",
     "evalue": "",
     "output_type": "error",
     "traceback": [
      "\u001b[1;31m---------------------------------------------------------------------------\u001b[0m",
      "\u001b[1;31mKeyboardInterrupt\u001b[0m                         Traceback (most recent call last)",
      "Cell \u001b[1;32mIn[23], line 6\u001b[0m\n\u001b[0;32m      4\u001b[0m \u001b[38;5;28;01mif\u001b[39;00m result_image \u001b[38;5;129;01mis\u001b[39;00m \u001b[38;5;129;01mnot\u001b[39;00m \u001b[38;5;28;01mNone\u001b[39;00m:\n\u001b[0;32m      5\u001b[0m     cv2\u001b[38;5;241m.\u001b[39mimshow(\u001b[38;5;124m\"\u001b[39m\u001b[38;5;124mFace Recognition\u001b[39m\u001b[38;5;124m\"\u001b[39m, result_image)\n\u001b[1;32m----> 6\u001b[0m     cv2\u001b[38;5;241m.\u001b[39mwaitKey(\u001b[38;5;241m0\u001b[39m)  \u001b[38;5;66;03m# Wait for a key press to close the image window\u001b[39;00m\n\u001b[0;32m      7\u001b[0m     cv2\u001b[38;5;241m.\u001b[39mdestroyAllWindows()\n\u001b[0;32m      8\u001b[0m \u001b[38;5;28;01melse\u001b[39;00m:\n",
      "\u001b[1;31mKeyboardInterrupt\u001b[0m: "
     ]
    }
   ],
   "source": [
    "# Process and display the single test image\n",
    "result_image = recognize_faces_in_image(test_image_path)\n",
    "\n",
    "if result_image is not None:\n",
    "    cv2.imshow(\"Face Recognition\", result_image)\n",
    "    cv2.waitKey(0)  # Wait for a key press to close the image window\n",
    "    cv2.destroyAllWindows()\n",
    "else:\n",
    "    print(\"Failed to process the image.\")"
   ]
  }
 ],
 "metadata": {
  "kernelspec": {
   "display_name": "base",
   "language": "python",
   "name": "python3"
  },
  "language_info": {
   "codemirror_mode": {
    "name": "ipython",
    "version": 3
   },
   "file_extension": ".py",
   "mimetype": "text/x-python",
   "name": "python",
   "nbconvert_exporter": "python",
   "pygments_lexer": "ipython3",
   "version": "3.11.7"
  }
 },
 "nbformat": 4,
 "nbformat_minor": 2
}
